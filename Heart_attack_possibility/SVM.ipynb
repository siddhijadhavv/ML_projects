{
 "cells": [
  {
   "cell_type": "code",
   "execution_count": 52,
   "metadata": {},
   "outputs": [],
   "source": [
    "import pandas as pd\n",
    "import numpy as np\n",
    "import matplotlib.pyplot as plt\n",
    "import seaborn as sns\n",
    "%matplotlib inline\n",
    "import random\n",
    "\n",
    "random.seed(500)"
   ]
  },
  {
   "cell_type": "code",
   "execution_count": 53,
   "metadata": {},
   "outputs": [
    {
     "data": {
      "text/html": [
       "<div>\n",
       "<style scoped>\n",
       "    .dataframe tbody tr th:only-of-type {\n",
       "        vertical-align: middle;\n",
       "    }\n",
       "\n",
       "    .dataframe tbody tr th {\n",
       "        vertical-align: top;\n",
       "    }\n",
       "\n",
       "    .dataframe thead th {\n",
       "        text-align: right;\n",
       "    }\n",
       "</style>\n",
       "<table border=\"1\" class=\"dataframe\">\n",
       "  <thead>\n",
       "    <tr style=\"text-align: right;\">\n",
       "      <th></th>\n",
       "      <th>age</th>\n",
       "      <th>sex</th>\n",
       "      <th>cp</th>\n",
       "      <th>trestbps</th>\n",
       "      <th>chol</th>\n",
       "      <th>fbs</th>\n",
       "      <th>restecg</th>\n",
       "      <th>thalach</th>\n",
       "      <th>exang</th>\n",
       "      <th>oldpeak</th>\n",
       "      <th>slope</th>\n",
       "      <th>ca</th>\n",
       "      <th>thal</th>\n",
       "      <th>target</th>\n",
       "    </tr>\n",
       "  </thead>\n",
       "  <tbody>\n",
       "    <tr>\n",
       "      <th>0</th>\n",
       "      <td>63</td>\n",
       "      <td>1</td>\n",
       "      <td>3</td>\n",
       "      <td>145</td>\n",
       "      <td>233</td>\n",
       "      <td>1</td>\n",
       "      <td>0</td>\n",
       "      <td>150</td>\n",
       "      <td>0</td>\n",
       "      <td>2.3</td>\n",
       "      <td>0</td>\n",
       "      <td>0</td>\n",
       "      <td>1</td>\n",
       "      <td>1</td>\n",
       "    </tr>\n",
       "    <tr>\n",
       "      <th>1</th>\n",
       "      <td>37</td>\n",
       "      <td>1</td>\n",
       "      <td>2</td>\n",
       "      <td>130</td>\n",
       "      <td>250</td>\n",
       "      <td>0</td>\n",
       "      <td>1</td>\n",
       "      <td>187</td>\n",
       "      <td>0</td>\n",
       "      <td>3.5</td>\n",
       "      <td>0</td>\n",
       "      <td>0</td>\n",
       "      <td>2</td>\n",
       "      <td>1</td>\n",
       "    </tr>\n",
       "    <tr>\n",
       "      <th>2</th>\n",
       "      <td>41</td>\n",
       "      <td>0</td>\n",
       "      <td>1</td>\n",
       "      <td>130</td>\n",
       "      <td>204</td>\n",
       "      <td>0</td>\n",
       "      <td>0</td>\n",
       "      <td>172</td>\n",
       "      <td>0</td>\n",
       "      <td>1.4</td>\n",
       "      <td>2</td>\n",
       "      <td>0</td>\n",
       "      <td>2</td>\n",
       "      <td>1</td>\n",
       "    </tr>\n",
       "    <tr>\n",
       "      <th>3</th>\n",
       "      <td>56</td>\n",
       "      <td>1</td>\n",
       "      <td>1</td>\n",
       "      <td>120</td>\n",
       "      <td>236</td>\n",
       "      <td>0</td>\n",
       "      <td>1</td>\n",
       "      <td>178</td>\n",
       "      <td>0</td>\n",
       "      <td>0.8</td>\n",
       "      <td>2</td>\n",
       "      <td>0</td>\n",
       "      <td>2</td>\n",
       "      <td>1</td>\n",
       "    </tr>\n",
       "    <tr>\n",
       "      <th>4</th>\n",
       "      <td>57</td>\n",
       "      <td>0</td>\n",
       "      <td>0</td>\n",
       "      <td>120</td>\n",
       "      <td>354</td>\n",
       "      <td>0</td>\n",
       "      <td>1</td>\n",
       "      <td>163</td>\n",
       "      <td>1</td>\n",
       "      <td>0.6</td>\n",
       "      <td>2</td>\n",
       "      <td>0</td>\n",
       "      <td>2</td>\n",
       "      <td>1</td>\n",
       "    </tr>\n",
       "  </tbody>\n",
       "</table>\n",
       "</div>"
      ],
      "text/plain": [
       "   age  sex  cp  trestbps  chol  fbs  restecg  thalach  exang  oldpeak  slope  \\\n",
       "0   63    1   3       145   233    1        0      150      0      2.3      0   \n",
       "1   37    1   2       130   250    0        1      187      0      3.5      0   \n",
       "2   41    0   1       130   204    0        0      172      0      1.4      2   \n",
       "3   56    1   1       120   236    0        1      178      0      0.8      2   \n",
       "4   57    0   0       120   354    0        1      163      1      0.6      2   \n",
       "\n",
       "   ca  thal  target  \n",
       "0   0     1       1  \n",
       "1   0     2       1  \n",
       "2   0     2       1  \n",
       "3   0     2       1  \n",
       "4   0     2       1  "
      ]
     },
     "execution_count": 53,
     "metadata": {},
     "output_type": "execute_result"
    }
   ],
   "source": [
    "data = pd.read_csv('heart.csv')\n",
    "data.head()"
   ]
  },
  {
   "cell_type": "code",
   "execution_count": 54,
   "metadata": {},
   "outputs": [
    {
     "data": {
      "text/plain": [
       "(303, 14)"
      ]
     },
     "execution_count": 54,
     "metadata": {},
     "output_type": "execute_result"
    }
   ],
   "source": [
    "data.shape"
   ]
  },
  {
   "cell_type": "code",
   "execution_count": 55,
   "metadata": {},
   "outputs": [
    {
     "data": {
      "text/html": [
       "<div>\n",
       "<style scoped>\n",
       "    .dataframe tbody tr th:only-of-type {\n",
       "        vertical-align: middle;\n",
       "    }\n",
       "\n",
       "    .dataframe tbody tr th {\n",
       "        vertical-align: top;\n",
       "    }\n",
       "\n",
       "    .dataframe thead th {\n",
       "        text-align: right;\n",
       "    }\n",
       "</style>\n",
       "<table border=\"1\" class=\"dataframe\">\n",
       "  <thead>\n",
       "    <tr style=\"text-align: right;\">\n",
       "      <th></th>\n",
       "      <th>age</th>\n",
       "      <th>sex</th>\n",
       "      <th>cp</th>\n",
       "      <th>trestbps</th>\n",
       "      <th>chol</th>\n",
       "      <th>fbs</th>\n",
       "      <th>restecg</th>\n",
       "      <th>thalach</th>\n",
       "      <th>exang</th>\n",
       "      <th>oldpeak</th>\n",
       "      <th>slope</th>\n",
       "      <th>ca</th>\n",
       "      <th>thal</th>\n",
       "      <th>target</th>\n",
       "    </tr>\n",
       "  </thead>\n",
       "  <tbody>\n",
       "    <tr>\n",
       "      <th>age</th>\n",
       "      <td>1.000000</td>\n",
       "      <td>-0.098447</td>\n",
       "      <td>-0.068653</td>\n",
       "      <td>0.279351</td>\n",
       "      <td>0.213678</td>\n",
       "      <td>0.121308</td>\n",
       "      <td>-0.116211</td>\n",
       "      <td>-0.398522</td>\n",
       "      <td>0.096801</td>\n",
       "      <td>0.210013</td>\n",
       "      <td>-0.168814</td>\n",
       "      <td>0.276326</td>\n",
       "      <td>0.068001</td>\n",
       "      <td>-0.225439</td>\n",
       "    </tr>\n",
       "    <tr>\n",
       "      <th>sex</th>\n",
       "      <td>-0.098447</td>\n",
       "      <td>1.000000</td>\n",
       "      <td>-0.049353</td>\n",
       "      <td>-0.056769</td>\n",
       "      <td>-0.197912</td>\n",
       "      <td>0.045032</td>\n",
       "      <td>-0.058196</td>\n",
       "      <td>-0.044020</td>\n",
       "      <td>0.141664</td>\n",
       "      <td>0.096093</td>\n",
       "      <td>-0.030711</td>\n",
       "      <td>0.118261</td>\n",
       "      <td>0.210041</td>\n",
       "      <td>-0.280937</td>\n",
       "    </tr>\n",
       "    <tr>\n",
       "      <th>cp</th>\n",
       "      <td>-0.068653</td>\n",
       "      <td>-0.049353</td>\n",
       "      <td>1.000000</td>\n",
       "      <td>0.047608</td>\n",
       "      <td>-0.076904</td>\n",
       "      <td>0.094444</td>\n",
       "      <td>0.044421</td>\n",
       "      <td>0.295762</td>\n",
       "      <td>-0.394280</td>\n",
       "      <td>-0.149230</td>\n",
       "      <td>0.119717</td>\n",
       "      <td>-0.181053</td>\n",
       "      <td>-0.161736</td>\n",
       "      <td>0.433798</td>\n",
       "    </tr>\n",
       "    <tr>\n",
       "      <th>trestbps</th>\n",
       "      <td>0.279351</td>\n",
       "      <td>-0.056769</td>\n",
       "      <td>0.047608</td>\n",
       "      <td>1.000000</td>\n",
       "      <td>0.123174</td>\n",
       "      <td>0.177531</td>\n",
       "      <td>-0.114103</td>\n",
       "      <td>-0.046698</td>\n",
       "      <td>0.067616</td>\n",
       "      <td>0.193216</td>\n",
       "      <td>-0.121475</td>\n",
       "      <td>0.101389</td>\n",
       "      <td>0.062210</td>\n",
       "      <td>-0.144931</td>\n",
       "    </tr>\n",
       "    <tr>\n",
       "      <th>chol</th>\n",
       "      <td>0.213678</td>\n",
       "      <td>-0.197912</td>\n",
       "      <td>-0.076904</td>\n",
       "      <td>0.123174</td>\n",
       "      <td>1.000000</td>\n",
       "      <td>0.013294</td>\n",
       "      <td>-0.151040</td>\n",
       "      <td>-0.009940</td>\n",
       "      <td>0.067023</td>\n",
       "      <td>0.053952</td>\n",
       "      <td>-0.004038</td>\n",
       "      <td>0.070511</td>\n",
       "      <td>0.098803</td>\n",
       "      <td>-0.085239</td>\n",
       "    </tr>\n",
       "    <tr>\n",
       "      <th>fbs</th>\n",
       "      <td>0.121308</td>\n",
       "      <td>0.045032</td>\n",
       "      <td>0.094444</td>\n",
       "      <td>0.177531</td>\n",
       "      <td>0.013294</td>\n",
       "      <td>1.000000</td>\n",
       "      <td>-0.084189</td>\n",
       "      <td>-0.008567</td>\n",
       "      <td>0.025665</td>\n",
       "      <td>0.005747</td>\n",
       "      <td>-0.059894</td>\n",
       "      <td>0.137979</td>\n",
       "      <td>-0.032019</td>\n",
       "      <td>-0.028046</td>\n",
       "    </tr>\n",
       "    <tr>\n",
       "      <th>restecg</th>\n",
       "      <td>-0.116211</td>\n",
       "      <td>-0.058196</td>\n",
       "      <td>0.044421</td>\n",
       "      <td>-0.114103</td>\n",
       "      <td>-0.151040</td>\n",
       "      <td>-0.084189</td>\n",
       "      <td>1.000000</td>\n",
       "      <td>0.044123</td>\n",
       "      <td>-0.070733</td>\n",
       "      <td>-0.058770</td>\n",
       "      <td>0.093045</td>\n",
       "      <td>-0.072042</td>\n",
       "      <td>-0.011981</td>\n",
       "      <td>0.137230</td>\n",
       "    </tr>\n",
       "    <tr>\n",
       "      <th>thalach</th>\n",
       "      <td>-0.398522</td>\n",
       "      <td>-0.044020</td>\n",
       "      <td>0.295762</td>\n",
       "      <td>-0.046698</td>\n",
       "      <td>-0.009940</td>\n",
       "      <td>-0.008567</td>\n",
       "      <td>0.044123</td>\n",
       "      <td>1.000000</td>\n",
       "      <td>-0.378812</td>\n",
       "      <td>-0.344187</td>\n",
       "      <td>0.386784</td>\n",
       "      <td>-0.213177</td>\n",
       "      <td>-0.096439</td>\n",
       "      <td>0.421741</td>\n",
       "    </tr>\n",
       "    <tr>\n",
       "      <th>exang</th>\n",
       "      <td>0.096801</td>\n",
       "      <td>0.141664</td>\n",
       "      <td>-0.394280</td>\n",
       "      <td>0.067616</td>\n",
       "      <td>0.067023</td>\n",
       "      <td>0.025665</td>\n",
       "      <td>-0.070733</td>\n",
       "      <td>-0.378812</td>\n",
       "      <td>1.000000</td>\n",
       "      <td>0.288223</td>\n",
       "      <td>-0.257748</td>\n",
       "      <td>0.115739</td>\n",
       "      <td>0.206754</td>\n",
       "      <td>-0.436757</td>\n",
       "    </tr>\n",
       "    <tr>\n",
       "      <th>oldpeak</th>\n",
       "      <td>0.210013</td>\n",
       "      <td>0.096093</td>\n",
       "      <td>-0.149230</td>\n",
       "      <td>0.193216</td>\n",
       "      <td>0.053952</td>\n",
       "      <td>0.005747</td>\n",
       "      <td>-0.058770</td>\n",
       "      <td>-0.344187</td>\n",
       "      <td>0.288223</td>\n",
       "      <td>1.000000</td>\n",
       "      <td>-0.577537</td>\n",
       "      <td>0.222682</td>\n",
       "      <td>0.210244</td>\n",
       "      <td>-0.430696</td>\n",
       "    </tr>\n",
       "    <tr>\n",
       "      <th>slope</th>\n",
       "      <td>-0.168814</td>\n",
       "      <td>-0.030711</td>\n",
       "      <td>0.119717</td>\n",
       "      <td>-0.121475</td>\n",
       "      <td>-0.004038</td>\n",
       "      <td>-0.059894</td>\n",
       "      <td>0.093045</td>\n",
       "      <td>0.386784</td>\n",
       "      <td>-0.257748</td>\n",
       "      <td>-0.577537</td>\n",
       "      <td>1.000000</td>\n",
       "      <td>-0.080155</td>\n",
       "      <td>-0.104764</td>\n",
       "      <td>0.345877</td>\n",
       "    </tr>\n",
       "    <tr>\n",
       "      <th>ca</th>\n",
       "      <td>0.276326</td>\n",
       "      <td>0.118261</td>\n",
       "      <td>-0.181053</td>\n",
       "      <td>0.101389</td>\n",
       "      <td>0.070511</td>\n",
       "      <td>0.137979</td>\n",
       "      <td>-0.072042</td>\n",
       "      <td>-0.213177</td>\n",
       "      <td>0.115739</td>\n",
       "      <td>0.222682</td>\n",
       "      <td>-0.080155</td>\n",
       "      <td>1.000000</td>\n",
       "      <td>0.151832</td>\n",
       "      <td>-0.391724</td>\n",
       "    </tr>\n",
       "    <tr>\n",
       "      <th>thal</th>\n",
       "      <td>0.068001</td>\n",
       "      <td>0.210041</td>\n",
       "      <td>-0.161736</td>\n",
       "      <td>0.062210</td>\n",
       "      <td>0.098803</td>\n",
       "      <td>-0.032019</td>\n",
       "      <td>-0.011981</td>\n",
       "      <td>-0.096439</td>\n",
       "      <td>0.206754</td>\n",
       "      <td>0.210244</td>\n",
       "      <td>-0.104764</td>\n",
       "      <td>0.151832</td>\n",
       "      <td>1.000000</td>\n",
       "      <td>-0.344029</td>\n",
       "    </tr>\n",
       "    <tr>\n",
       "      <th>target</th>\n",
       "      <td>-0.225439</td>\n",
       "      <td>-0.280937</td>\n",
       "      <td>0.433798</td>\n",
       "      <td>-0.144931</td>\n",
       "      <td>-0.085239</td>\n",
       "      <td>-0.028046</td>\n",
       "      <td>0.137230</td>\n",
       "      <td>0.421741</td>\n",
       "      <td>-0.436757</td>\n",
       "      <td>-0.430696</td>\n",
       "      <td>0.345877</td>\n",
       "      <td>-0.391724</td>\n",
       "      <td>-0.344029</td>\n",
       "      <td>1.000000</td>\n",
       "    </tr>\n",
       "  </tbody>\n",
       "</table>\n",
       "</div>"
      ],
      "text/plain": [
       "               age       sex        cp  trestbps      chol       fbs  \\\n",
       "age       1.000000 -0.098447 -0.068653  0.279351  0.213678  0.121308   \n",
       "sex      -0.098447  1.000000 -0.049353 -0.056769 -0.197912  0.045032   \n",
       "cp       -0.068653 -0.049353  1.000000  0.047608 -0.076904  0.094444   \n",
       "trestbps  0.279351 -0.056769  0.047608  1.000000  0.123174  0.177531   \n",
       "chol      0.213678 -0.197912 -0.076904  0.123174  1.000000  0.013294   \n",
       "fbs       0.121308  0.045032  0.094444  0.177531  0.013294  1.000000   \n",
       "restecg  -0.116211 -0.058196  0.044421 -0.114103 -0.151040 -0.084189   \n",
       "thalach  -0.398522 -0.044020  0.295762 -0.046698 -0.009940 -0.008567   \n",
       "exang     0.096801  0.141664 -0.394280  0.067616  0.067023  0.025665   \n",
       "oldpeak   0.210013  0.096093 -0.149230  0.193216  0.053952  0.005747   \n",
       "slope    -0.168814 -0.030711  0.119717 -0.121475 -0.004038 -0.059894   \n",
       "ca        0.276326  0.118261 -0.181053  0.101389  0.070511  0.137979   \n",
       "thal      0.068001  0.210041 -0.161736  0.062210  0.098803 -0.032019   \n",
       "target   -0.225439 -0.280937  0.433798 -0.144931 -0.085239 -0.028046   \n",
       "\n",
       "           restecg   thalach     exang   oldpeak     slope        ca  \\\n",
       "age      -0.116211 -0.398522  0.096801  0.210013 -0.168814  0.276326   \n",
       "sex      -0.058196 -0.044020  0.141664  0.096093 -0.030711  0.118261   \n",
       "cp        0.044421  0.295762 -0.394280 -0.149230  0.119717 -0.181053   \n",
       "trestbps -0.114103 -0.046698  0.067616  0.193216 -0.121475  0.101389   \n",
       "chol     -0.151040 -0.009940  0.067023  0.053952 -0.004038  0.070511   \n",
       "fbs      -0.084189 -0.008567  0.025665  0.005747 -0.059894  0.137979   \n",
       "restecg   1.000000  0.044123 -0.070733 -0.058770  0.093045 -0.072042   \n",
       "thalach   0.044123  1.000000 -0.378812 -0.344187  0.386784 -0.213177   \n",
       "exang    -0.070733 -0.378812  1.000000  0.288223 -0.257748  0.115739   \n",
       "oldpeak  -0.058770 -0.344187  0.288223  1.000000 -0.577537  0.222682   \n",
       "slope     0.093045  0.386784 -0.257748 -0.577537  1.000000 -0.080155   \n",
       "ca       -0.072042 -0.213177  0.115739  0.222682 -0.080155  1.000000   \n",
       "thal     -0.011981 -0.096439  0.206754  0.210244 -0.104764  0.151832   \n",
       "target    0.137230  0.421741 -0.436757 -0.430696  0.345877 -0.391724   \n",
       "\n",
       "              thal    target  \n",
       "age       0.068001 -0.225439  \n",
       "sex       0.210041 -0.280937  \n",
       "cp       -0.161736  0.433798  \n",
       "trestbps  0.062210 -0.144931  \n",
       "chol      0.098803 -0.085239  \n",
       "fbs      -0.032019 -0.028046  \n",
       "restecg  -0.011981  0.137230  \n",
       "thalach  -0.096439  0.421741  \n",
       "exang     0.206754 -0.436757  \n",
       "oldpeak   0.210244 -0.430696  \n",
       "slope    -0.104764  0.345877  \n",
       "ca        0.151832 -0.391724  \n",
       "thal      1.000000 -0.344029  \n",
       "target   -0.344029  1.000000  "
      ]
     },
     "execution_count": 55,
     "metadata": {},
     "output_type": "execute_result"
    }
   ],
   "source": [
    "corrmat = data.corr()\n",
    "corrmat"
   ]
  },
  {
   "cell_type": "code",
   "execution_count": 56,
   "metadata": {},
   "outputs": [
    {
     "data": {
      "text/plain": [
       "age         0\n",
       "sex         0\n",
       "cp          0\n",
       "trestbps    0\n",
       "chol        0\n",
       "fbs         0\n",
       "restecg     0\n",
       "thalach     0\n",
       "exang       0\n",
       "oldpeak     0\n",
       "slope       0\n",
       "ca          0\n",
       "thal        0\n",
       "target      0\n",
       "dtype: int64"
      ]
     },
     "execution_count": 56,
     "metadata": {},
     "output_type": "execute_result"
    }
   ],
   "source": [
    "data.isnull().sum()"
   ]
  },
  {
   "cell_type": "code",
   "execution_count": 57,
   "metadata": {},
   "outputs": [
    {
     "data": {
      "text/plain": [
       "<matplotlib.axes._subplots.AxesSubplot at 0x1e7f6e1fa60>"
      ]
     },
     "execution_count": 57,
     "metadata": {},
     "output_type": "execute_result"
    },
    {
     "data": {
      "image/png": "[encoded data removed]",
      "text/plain": [
       "<Figure size 1080x1080 with 2 Axes>"
      ]
     },
     "metadata": {
      "needs_background": "light"
     },
     "output_type": "display_data"
    }
   ],
   "source": [
    "plt.figure(figsize = (15,15))\n",
    "sns.heatmap(data.corr(), annot = True, cmap = sns.diverging_palette(20, 220, n=200))"
   ]
  },
  {
   "cell_type": "code",
   "execution_count": 58,
   "metadata": {},
   "outputs": [
    {
     "data": {
      "text/html": [
       "<div>\n",
       "<style scoped>\n",
       "    .dataframe tbody tr th:only-of-type {\n",
       "        vertical-align: middle;\n",
       "    }\n",
       "\n",
       "    .dataframe tbody tr th {\n",
       "        vertical-align: top;\n",
       "    }\n",
       "\n",
       "    .dataframe thead th {\n",
       "        text-align: right;\n",
       "    }\n",
       "</style>\n",
       "<table border=\"1\" class=\"dataframe\">\n",
       "  <thead>\n",
       "    <tr style=\"text-align: right;\">\n",
       "      <th></th>\n",
       "      <th>target</th>\n",
       "    </tr>\n",
       "  </thead>\n",
       "  <tbody>\n",
       "    <tr>\n",
       "      <th>0</th>\n",
       "      <td>1</td>\n",
       "    </tr>\n",
       "    <tr>\n",
       "      <th>1</th>\n",
       "      <td>1</td>\n",
       "    </tr>\n",
       "    <tr>\n",
       "      <th>2</th>\n",
       "      <td>1</td>\n",
       "    </tr>\n",
       "  </tbody>\n",
       "</table>\n",
       "</div>"
      ],
      "text/plain": [
       "   target\n",
       "0       1\n",
       "1       1\n",
       "2       1"
      ]
     },
     "execution_count": 58,
     "metadata": {},
     "output_type": "execute_result"
    }
   ],
   "source": [
    "X = data.iloc[:,[2,7]]\n",
    "y = data.iloc[:,-1:]\n",
    "X.head(3)\n",
    "y.head(3)"
   ]
  },
  {
   "cell_type": "code",
   "execution_count": 59,
   "metadata": {},
   "outputs": [
    {
     "name": "stderr",
     "output_type": "stream",
     "text": [
      "C:\\Users\\jadha\\AppData\\Roaming\\Python\\Python38\\site-packages\\sklearn\\utils\\validation.py:63: DataConversionWarning: A column-vector y was passed when a 1d array was expected. Please change the shape of y to (n_samples, ), for example using ravel().\n",
      "  return f(*args, **kwargs)\n"
     ]
    },
    {
     "data": {
      "text/plain": [
       "array([1, 1, 1, 1, 1, 1, 1, 1, 1, 1, 1, 1, 1, 1, 1, 1, 1, 1, 1, 1, 1, 1,\n",
       "       1, 1, 1, 1, 1, 1, 1, 1, 1, 1, 1, 1, 1, 1, 1, 1, 1, 1, 1, 1, 1, 1,\n",
       "       1, 1, 1, 1, 1, 1, 1, 1, 1, 1, 1, 1, 1, 1, 1, 1, 1, 1, 1, 1, 1, 1,\n",
       "       1, 1, 1, 1, 1, 1, 1, 1, 1, 1, 1, 1, 1, 1, 1, 1, 1, 1, 1, 1, 1, 1,\n",
       "       1, 1, 1, 1, 1, 1, 1, 1, 1, 1, 1, 1, 1, 1, 1, 1, 1, 1, 1, 1, 1, 1,\n",
       "       1, 1, 1, 1, 1, 1, 1, 1, 1, 1, 1, 1, 1, 1, 1, 1, 1, 1, 1, 1, 1, 1,\n",
       "       1, 1, 1, 1, 1, 1, 1, 1, 1, 1, 1, 1, 1, 1, 1, 1, 1, 1, 1, 1, 1, 1,\n",
       "       1, 1, 1, 1, 1, 1, 1, 1, 1, 1, 1, 0, 0, 0, 0, 0, 0, 0, 0, 0, 0, 0,\n",
       "       0, 0, 0, 0, 0, 0, 0, 0, 0, 0, 0, 0, 0, 0, 0, 0, 0, 0, 0, 0, 0, 0,\n",
       "       0, 0, 0, 0, 0, 0, 0, 0, 0, 0, 0, 0, 0, 0, 0, 0, 0, 0, 0, 0, 0, 0,\n",
       "       0, 0, 0, 0, 0, 0, 0, 0, 0, 0, 0, 0, 0, 0, 0, 0, 0, 0, 0, 0, 0, 0,\n",
       "       0, 0, 0, 0, 0, 0, 0, 0, 0, 0, 0, 0, 0, 0, 0, 0, 0, 0, 0, 0, 0, 0,\n",
       "       0, 0, 0, 0, 0, 0, 0, 0, 0, 0, 0, 0, 0, 0, 0, 0, 0, 0, 0, 0, 0, 0,\n",
       "       0, 0, 0, 0, 0, 0, 0, 0, 0, 0, 0, 0, 0, 0, 0, 0, 0], dtype=int64)"
      ]
     },
     "execution_count": 59,
     "metadata": {},
     "output_type": "execute_result"
    }
   ],
   "source": [
    "from sklearn.preprocessing import LabelEncoder\n",
    "gender_encoder = LabelEncoder()\n",
    "y = gender_encoder.fit_transform(y)\n",
    "y"
   ]
  },
  {
   "cell_type": "code",
   "execution_count": 60,
   "metadata": {},
   "outputs": [
    {
     "name": "stdout",
     "output_type": "stream",
     "text": [
      "[[ 1.97312292  0.01544279]\n",
      " [ 1.00257707  1.63347147]\n",
      " [ 0.03203122  0.97751389]\n",
      " [ 0.03203122  1.23989692]\n",
      " [-0.93851463  0.58393935]\n",
      " [-0.93851463 -0.07201822]\n",
      " [ 0.03203122  0.1466343 ]\n",
      " [ 0.03203122  1.0212444 ]\n",
      " [ 1.00257707  0.54020884]\n",
      " [ 1.00257707  1.0649749 ]\n",
      " [-0.93851463  0.45274783]\n",
      " [ 1.00257707 -0.46559277]\n",
      " [ 0.03203122  0.93378339]\n",
      " [ 1.97312292 -0.24694024]\n",
      " [ 1.97312292  0.54020884]\n",
      " [ 1.00257707  0.36528682]\n",
      " [ 1.00257707  0.97751389]\n",
      " [ 1.97312292 -1.55885539]\n",
      " [-0.93851463  0.93378339]\n",
      " [ 1.97312292  0.05917329]\n",
      " [-0.93851463  0.49647834]\n",
      " [ 1.00257707  1.28362743]\n",
      " [-0.93851463  1.23989692]\n",
      " [ 1.00257707 -0.55305378]\n",
      " [ 1.97312292  1.23989692]\n",
      " [ 0.03203122  0.54020884]\n",
      " [ 1.00257707  0.32155632]\n",
      " [ 1.00257707 -1.16528085]\n",
      " [ 1.00257707  0.32155632]\n",
      " [ 1.00257707  0.1029038 ]\n",
      " [ 0.03203122  0.80259187]\n",
      " [-0.93851463 -0.42186226]\n",
      " [ 0.03203122  1.67720197]\n",
      " [ 1.00257707  0.1029038 ]\n",
      " [ 1.97312292 -1.07781984]\n",
      " [ 1.00257707  0.45274783]\n",
      " [ 1.00257707  0.89005288]\n",
      " [ 1.00257707  0.67140036]\n",
      " [ 1.00257707 -0.07201822]\n",
      " [ 1.00257707  0.05917329]\n",
      " [ 1.00257707 -0.33440125]\n",
      " [ 0.03203122  1.32735793]\n",
      " [-0.93851463 -0.07201822]\n",
      " [-0.93851463 -0.29067075]\n",
      " [ 1.00257707  1.41481894]\n",
      " [ 0.03203122  0.97751389]\n",
      " [ 1.00257707  1.32735793]\n",
      " [ 1.00257707  0.27782582]\n",
      " [ 1.00257707 -1.51512489]\n",
      " [-0.93851463  0.45274783]\n",
      " [ 1.00257707 -0.02828772]\n",
      " [-0.93851463  0.05917329]\n",
      " [ 1.00257707 -0.15947923]\n",
      " [ 1.00257707  1.10870541]\n",
      " [ 1.00257707  0.97751389]\n",
      " [ 0.03203122  0.36528682]\n",
      " [-0.93851463  1.58974096]\n",
      " [-0.93851463  1.54601046]\n",
      " [ 1.97312292  1.0649749 ]\n",
      " [-0.93851463  0.40901733]\n",
      " [ 1.00257707 -0.85916731]\n",
      " [ 0.03203122  0.27782582]\n",
      " [ 1.97312292  1.76466298]\n",
      " [ 0.03203122 -0.7717063 ]\n",
      " [ 1.00257707  0.67140036]\n",
      " [-0.93851463  1.41481894]\n",
      " [ 1.00257707 -0.29067075]\n",
      " [ 0.03203122  1.10870541]\n",
      " [ 0.03203122  0.89005288]\n",
      " [-0.93851463  0.58393935]\n",
      " [ 1.00257707 -0.11574873]\n",
      " [ 1.00257707  0.19036481]\n",
      " [ 0.03203122  2.28942904]\n",
      " [-0.93851463  1.58974096]\n",
      " [ 1.00257707  0.67140036]\n",
      " [ 0.03203122  0.49647834]\n",
      " [ 1.00257707  0.71513086]\n",
      " [ 0.03203122  0.62766985]\n",
      " [ 0.03203122  1.50227995]\n",
      " [ 1.00257707  0.19036481]\n",
      " [ 1.00257707  1.28362743]\n",
      " [ 0.03203122  0.89005288]\n",
      " [ 1.00257707  0.45274783]\n",
      " [ 1.97312292  1.23989692]\n",
      " [-0.93851463 -1.20901135]\n",
      " [ 1.00257707  0.45274783]\n",
      " [ 1.00257707  0.05917329]\n",
      " [ 0.03203122  0.27782582]\n",
      " [ 1.00257707  0.36528682]\n",
      " [-0.93851463 -1.20901135]\n",
      " [ 1.00257707  1.10870541]\n",
      " [-0.93851463  0.80259187]\n",
      " [ 1.00257707  0.84632238]\n",
      " [ 0.03203122  0.40901733]\n",
      " [ 0.03203122 -0.50932327]\n",
      " [-0.93851463 -1.69004691]\n",
      " [-0.93851463  0.32155632]\n",
      " [-0.93851463 -0.11574873]\n",
      " [ 1.00257707  0.54020884]\n",
      " [ 1.00257707  1.0212444 ]\n",
      " [ 1.97312292  1.23989692]\n",
      " [ 1.97312292 -0.20320974]\n",
      " [ 0.03203122  1.28362743]\n",
      " [ 1.00257707  1.939585  ]\n",
      " [ 1.00257707  0.58393935]\n",
      " [ 1.00257707 -1.51512489]\n",
      " [ 1.97312292 -0.81543681]\n",
      " [-0.93851463  0.1029038 ]\n",
      " [ 0.03203122  0.54020884]\n",
      " [-0.93851463  0.40901733]\n",
      " [-0.93851463  0.19036481]\n",
      " [ 1.00257707  1.0212444 ]\n",
      " [ 1.00257707 -0.7279758 ]\n",
      " [-0.93851463  0.49647834]\n",
      " [ 0.03203122  0.23409531]\n",
      " [ 1.00257707  0.89005288]\n",
      " [ 1.00257707  0.80259187]\n",
      " [ 1.97312292  0.54020884]\n",
      " [ 0.03203122  0.97751389]\n",
      " [-0.93851463  0.1029038 ]\n",
      " [-0.93851463 -1.20901135]\n",
      " [-0.93851463  1.41481894]\n",
      " [ 1.00257707  0.97751389]\n",
      " [ 1.00257707  0.75886137]\n",
      " [ 1.00257707  1.28362743]\n",
      " [ 0.03203122  1.85212399]\n",
      " [-0.93851463 -0.29067075]\n",
      " [ 1.00257707  0.97751389]\n",
      " [ 1.00257707  0.84632238]\n",
      " [ 0.03203122 -1.25274186]\n",
      " [ 1.00257707  0.58393935]\n",
      " [ 0.03203122  0.54020884]\n",
      " [ 0.03203122  0.54020884]\n",
      " [ 0.03203122  0.1466343 ]\n",
      " [ 0.03203122  0.58393935]\n",
      " [-0.93851463  0.58393935]\n",
      " [ 1.00257707 -2.34600448]\n",
      " [ 0.03203122 -0.42186226]\n",
      " [-0.93851463 -1.03408933]\n",
      " [-0.93851463 -1.95242994]\n",
      " [ 1.00257707  0.32155632]\n",
      " [-0.93851463  1.37108844]\n",
      " [ 1.00257707  1.0212444 ]\n",
      " [-0.93851463 -0.33440125]\n",
      " [ 1.00257707 -1.47139438]\n",
      " [ 0.03203122 -0.29067075]\n",
      " [ 1.00257707 -0.02828772]\n",
      " [ 1.97312292  0.93378339]\n",
      " [ 1.00257707  0.84632238]\n",
      " [ 1.00257707  0.01544279]\n",
      " [-0.93851463 -0.50932327]\n",
      " [-0.93851463 -1.07781984]\n",
      " [ 1.97312292  0.23409531]\n",
      " [ 1.00257707  0.1029038 ]\n",
      " [ 1.00257707  0.1029038 ]\n",
      " [-0.93851463 -0.81543681]\n",
      " [ 1.00257707  1.28362743]\n",
      " [ 0.03203122  1.0649749 ]\n",
      " [ 0.03203122 -0.24694024]\n",
      " [ 0.03203122  0.58393935]\n",
      " [ 0.03203122  0.84632238]\n",
      " [ 0.03203122  0.71513086]\n",
      " [ 0.03203122  1.41481894]\n",
      " [ 1.00257707  1.0212444 ]\n",
      " [ 1.00257707  1.0212444 ]\n",
      " [-0.93851463 -1.82123842]\n",
      " [-0.93851463 -0.90289782]\n",
      " [-0.93851463  0.45274783]\n",
      " [-0.93851463 -0.11574873]\n",
      " [-0.93851463  0.23409531]\n",
      " [ 1.00257707 -0.33440125]\n",
      " [ 0.03203122  0.80259187]\n",
      " [ 0.03203122  0.45274783]\n",
      " [ 1.00257707  1.0212444 ]\n",
      " [-0.93851463 -0.7717063 ]\n",
      " [-0.93851463 -1.55885539]\n",
      " [-0.93851463  0.45274783]\n",
      " [ 1.00257707  0.36528682]\n",
      " [-0.93851463 -1.29647236]\n",
      " [-0.93851463 -1.6463164 ]\n",
      " [-0.93851463 -0.7717063 ]\n",
      " [-0.93851463 -1.55885539]\n",
      " [-0.93851463  0.84632238]\n",
      " [ 1.00257707  0.67140036]\n",
      " [-0.93851463 -0.94662832]\n",
      " [-0.93851463  0.1466343 ]\n",
      " [-0.93851463 -0.24694024]\n",
      " [-0.93851463 -1.77750792]\n",
      " [ 1.00257707  0.58393935]\n",
      " [-0.93851463  0.36528682]\n",
      " [-0.93851463 -0.33440125]\n",
      " [-0.93851463 -0.81543681]\n",
      " [-0.93851463 -1.6025859 ]\n",
      " [-0.93851463 -0.33440125]\n",
      " [ 1.00257707  0.23409531]\n",
      " [-0.93851463 -0.42186226]\n",
      " [ 1.00257707 -0.11574873]\n",
      " [-0.93851463  0.58393935]\n",
      " [-0.93851463 -2.21481297]\n",
      " [-0.93851463  0.36528682]\n",
      " [-0.93851463  1.19616642]\n",
      " [-0.93851463 -0.37813176]\n",
      " [-0.93851463 -1.69004691]\n",
      " [ 1.00257707  0.01544279]\n",
      " [-0.93851463 -0.20320974]\n",
      " [-0.93851463  0.49647834]\n",
      " [-0.93851463 -0.33440125]\n",
      " [-0.93851463  0.32155632]\n",
      " [ 1.00257707 -0.46559277]\n",
      " [-0.93851463  0.54020884]\n",
      " [ 1.00257707  0.01544279]\n",
      " [-0.93851463 -0.42186226]\n",
      " [-0.93851463 -0.42186226]\n",
      " [-0.93851463 -0.15947923]\n",
      " [-0.93851463 -0.24694024]\n",
      " [-0.93851463 -0.59678428]\n",
      " [ 1.00257707 -2.30227398]\n",
      " [-0.93851463 -0.7717063 ]\n",
      " [-0.93851463 -0.99035883]\n",
      " [-0.93851463  0.01544279]\n",
      " [-0.93851463  0.19036481]\n",
      " [-0.93851463 -1.69004691]\n",
      " [ 1.97312292  1.0649749 ]\n",
      " [-0.93851463 -0.7279758 ]\n",
      " [-0.93851463 -1.03408933]\n",
      " [-0.93851463 -1.07781984]\n",
      " [ 0.03203122 -2.03989095]\n",
      " [-0.93851463 -0.85916731]\n",
      " [ 1.97312292  0.40901733]\n",
      " [ 1.00257707 -0.81543681]\n",
      " [ 1.00257707  0.1029038 ]\n",
      " [-0.93851463 -1.12155034]\n",
      " [-0.93851463 -0.20320974]\n",
      " [-0.93851463 -2.34600448]\n",
      " [-0.93851463 -1.77750792]\n",
      " [-0.93851463  1.0212444 ]\n",
      " [-0.93851463  0.93378339]\n",
      " [-0.93851463  0.89005288]\n",
      " [-0.93851463  0.54020884]\n",
      " [-0.93851463  0.27782582]\n",
      " [ 1.00257707 -1.6463164 ]\n",
      " [-0.93851463 -0.29067075]\n",
      " [-0.93851463 -0.7717063 ]\n",
      " [-0.93851463 -2.69584852]\n",
      " [-0.93851463 -1.95242994]\n",
      " [-0.93851463  0.71513086]\n",
      " [-0.93851463  0.01544279]\n",
      " [ 0.03203122 -1.29647236]\n",
      " [ 0.03203122  1.98331551]\n",
      " [ 1.00257707 -0.15947923]\n",
      " [-0.93851463 -1.20901135]\n",
      " [-0.93851463 -0.29067075]\n",
      " [-0.93851463 -1.90869943]\n",
      " [-0.93851463 -1.07781984]\n",
      " [ 1.97312292 -1.07781984]\n",
      " [-0.93851463 -0.11574873]\n",
      " [-0.93851463 -0.85916731]\n",
      " [-0.93851463 -1.03408933]\n",
      " [-0.93851463  0.19036481]\n",
      " [ 1.97312292  1.41481894]\n",
      " [-0.93851463  0.67140036]\n",
      " [-0.93851463  0.45274783]\n",
      " [-0.93851463 -2.38973499]\n",
      " [-0.93851463  0.84632238]\n",
      " [-0.93851463 -1.82123842]\n",
      " [-0.93851463 -0.7717063 ]\n",
      " [-0.93851463 -1.42766388]\n",
      " [ 1.00257707 -1.03408933]\n",
      " [-0.93851463 -1.47139438]\n",
      " [-0.93851463 -2.03989095]\n",
      " [-0.93851463 -0.24694024]\n",
      " [ 1.97312292 -0.20320974]\n",
      " [-0.93851463 -3.4392671 ]\n",
      " [-0.93851463  0.27782582]\n",
      " [-0.93851463 -1.38393337]\n",
      " [-0.93851463  0.80259187]\n",
      " [-0.93851463 -1.95242994]\n",
      " [ 0.03203122 -0.37813176]\n",
      " [ 0.03203122  0.1029038 ]\n",
      " [-0.93851463 -1.07781984]\n",
      " [-0.93851463 -1.07781984]\n",
      " [-0.93851463  0.27782582]\n",
      " [ 1.00257707 -0.68424529]\n",
      " [-0.93851463  1.37108844]\n",
      " [-0.93851463 -0.50932327]\n",
      " [-0.93851463 -1.29647236]\n",
      " [ 1.97312292  0.54020884]\n",
      " [ 0.03203122  0.62766985]\n",
      " [-0.93851463 -0.29067075]\n",
      " [-0.93851463 -0.85916731]\n",
      " [-0.93851463  0.49647834]\n",
      " [-0.93851463 -0.42186226]\n",
      " [-0.93851463 -0.15947923]\n",
      " [ 1.00257707  0.01544279]\n",
      " [-0.93851463 -0.24694024]\n",
      " [-0.93851463 -0.24694024]\n",
      " [-0.93851463 -0.59678428]\n",
      " [-0.93851463 -2.60838751]\n",
      " [-0.93851463 -1.16528085]\n",
      " [ 1.97312292 -0.7717063 ]\n",
      " [-0.93851463 -0.37813176]\n",
      " [-0.93851463 -1.51512489]\n",
      " [ 0.03203122  1.0649749 ]]\n"
     ]
    }
   ],
   "source": [
    "# scale the data between -1 to 1\n",
    "from sklearn.preprocessing import StandardScaler\n",
    "scaler = StandardScaler()\n",
    "scaler.fit(X)\n",
    "X = scaler.transform(X)\n",
    "print(X)"
   ]
  },
  {
   "cell_type": "code",
   "execution_count": 61,
   "metadata": {},
   "outputs": [],
   "source": [
    "from sklearn.model_selection import train_test_split \n",
    "X_train,X_test,y_train,y_test = train_test_split(X,y,test_size=0.20)"
   ]
  },
  {
   "cell_type": "code",
   "execution_count": 72,
   "metadata": {},
   "outputs": [
    {
     "name": "stdout",
     "output_type": "stream",
     "text": [
      "Accuracy Score:\n",
      "0.7213114754098361\n"
     ]
    }
   ],
   "source": [
    "from sklearn.svm import SVC\n",
    "from sklearn import metrics\n",
    "svc = SVC(kernel='rbf')\n",
    "svc.fit(X_train,y_train)\n",
    "y_pred = svc.predict(X_test)\n",
    "print('Accuracy Score:')\n",
    "print(metrics.accuracy_score(y_test,y_pred))"
   ]
  },
  {
   "cell_type": "code",
   "execution_count": 73,
   "metadata": {},
   "outputs": [
    {
     "name": "stderr",
     "output_type": "stream",
     "text": [
      "*c* argument looks like a single numeric RGB or RGBA sequence, which should be avoided as value-mapping will have precedence in case its length matches with *x* & *y*.  Please use the *color* keyword-argument or provide a 2-D array with a single row if you intend to specify the same RGB or RGBA value for all points.\n",
      "*c* argument looks like a single numeric RGB or RGBA sequence, which should be avoided as value-mapping will have precedence in case its length matches with *x* & *y*.  Please use the *color* keyword-argument or provide a 2-D array with a single row if you intend to specify the same RGB or RGBA value for all points.\n"
     ]
    },
    {
     "data": {
      "image/png": "[encoded data removed]",
      "text/plain": [
       "<Figure size 432x288 with 1 Axes>"
      ]
     },
     "metadata": {
      "needs_background": "light"
     },
     "output_type": "display_data"
    }
   ],
   "source": [
    "from matplotlib.colors import ListedColormap\n",
    "X_set,y_set = X_train,y_train\n",
    "X1,X2 = np.meshgrid(np.arange(start=X_set[:,0].min() - 1,stop=X_set[:,0].max()+1,step=0.01),\n",
    "                    np.arange(start=X_set[:,1].min() - 1,stop=X_set[:,1].max()+1,step=0.01))\n",
    "plt.contourf(X1,X2,svc.predict(np.array([X1.ravel(),X2.ravel()]).T).reshape(X1.shape),\n",
    "                        alpha=0.75,cmap=ListedColormap(('black','purple')))\n",
    "\n",
    "plt.xlim(X1.min(),X1.max())\n",
    "plt.ylim(X2.min(),X2.max())\n",
    "for i,j in enumerate(np.unique(y_set)):\n",
    "    plt.scatter(X_set[y_set ==j,0],X_set[y_set == j,1],\n",
    "               c=ListedColormap(['red','yellow'])(i),label=j)\n",
    "\n",
    "plt.title('SVM (Train set)')\n",
    "plt.xlabel('cp and thalach')\n",
    "plt.ylabel('Heart attack chances')\n",
    "plt.legend()\n",
    "plt.show()"
   ]
  },
  {
   "cell_type": "code",
   "execution_count": 74,
   "metadata": {},
   "outputs": [
    {
     "name": "stderr",
     "output_type": "stream",
     "text": [
      "*c* argument looks like a single numeric RGB or RGBA sequence, which should be avoided as value-mapping will have precedence in case its length matches with *x* & *y*.  Please use the *color* keyword-argument or provide a 2-D array with a single row if you intend to specify the same RGB or RGBA value for all points.\n",
      "*c* argument looks like a single numeric RGB or RGBA sequence, which should be avoided as value-mapping will have precedence in case its length matches with *x* & *y*.  Please use the *color* keyword-argument or provide a 2-D array with a single row if you intend to specify the same RGB or RGBA value for all points.\n"
     ]
    },
    {
     "data": {
      "image/png": "[encoded data removed]",
      "text/plain": [
       "<Figure size 432x288 with 1 Axes>"
      ]
     },
     "metadata": {
      "needs_background": "light"
     },
     "output_type": "display_data"
    }
   ],
   "source": [
    "X_set,y_set = X_test,y_test\n",
    "X1,X2 = np.meshgrid(np.arange(start=X_set[:,0].min() - 1,stop=X_set[:,0].max()+1,step=0.01),\n",
    "                    np.arange(start=X_set[:,1].min() - 1,stop=X_set[:,1].max()+1,step=0.01))\n",
    "plt.contourf(X1,X2,svc.predict(np.array([X1.ravel(),X2.ravel()]).T).reshape(X1.shape),\n",
    "                        alpha=0.75,cmap=ListedColormap(('black','green')))\n",
    "\n",
    "plt.xlim(X1.min(),X1.max())\n",
    "plt.ylim(X2.min(),X2.max())\n",
    "for i,j in enumerate(np.unique(y_set)):\n",
    "    plt.scatter(X_set[y_set ==j,0],X_set[y_set == j,1],\n",
    "               c=ListedColormap(['yellow','red'])(i),label=j)\n",
    "\n",
    "plt.title('SVM (Test set)')\n",
    "plt.xlabel('cp and thalach')\n",
    "plt.ylabel('Heart attack chances')\n",
    "plt.legend()\n",
    "plt.show()"
   ]
  },
  {
   "cell_type": "code",
   "execution_count": 75,
   "metadata": {},
   "outputs": [
    {
     "name": "stdout",
     "output_type": "stream",
     "text": [
      "Accuracy Score:\n",
      "0.7377049180327869\n"
     ]
    }
   ],
   "source": [
    "svc = SVC(kernel='linear')\n",
    "svc.fit(X_train,y_train)\n",
    "y_pred = svc.predict(X_test)\n",
    "print('Accuracy Score:')\n",
    "print(metrics.accuracy_score(y_test,y_pred))"
   ]
  },
  {
   "cell_type": "code",
   "execution_count": 76,
   "metadata": {},
   "outputs": [
    {
     "name": "stderr",
     "output_type": "stream",
     "text": [
      "*c* argument looks like a single numeric RGB or RGBA sequence, which should be avoided as value-mapping will have precedence in case its length matches with *x* & *y*.  Please use the *color* keyword-argument or provide a 2-D array with a single row if you intend to specify the same RGB or RGBA value for all points.\n",
      "*c* argument looks like a single numeric RGB or RGBA sequence, which should be avoided as value-mapping will have precedence in case its length matches with *x* & *y*.  Please use the *color* keyword-argument or provide a 2-D array with a single row if you intend to specify the same RGB or RGBA value for all points.\n"
     ]
    },
    {
     "data": {
      "image/png": "[encoded data removed]",
      "text/plain": [
       "<Figure size 432x288 with 1 Axes>"
      ]
     },
     "metadata": {
      "needs_background": "light"
     },
     "output_type": "display_data"
    }
   ],
   "source": [
    "from matplotlib.colors import ListedColormap\n",
    "X_set,y_set = X_train,y_train\n",
    "X1,X2 = np.meshgrid(np.arange(start=X_set[:,0].min() - 1,stop=X_set[:,0].max()+1,step=0.01),\n",
    "                    np.arange(start=X_set[:,1].min() - 1,stop=X_set[:,1].max()+1,step=0.01))\n",
    "plt.contourf(X1,X2,svc.predict(np.array([X1.ravel(),X2.ravel()]).T).reshape(X1.shape),\n",
    "                        alpha=0.75,cmap=ListedColormap(('black','purple')))\n",
    "\n",
    "plt.xlim(X1.min(),X1.max())\n",
    "plt.ylim(X2.min(),X2.max())\n",
    "for i,j in enumerate(np.unique(y_set)):\n",
    "    plt.scatter(X_set[y_set ==j,0],X_set[y_set == j,1],\n",
    "               c=ListedColormap(['red','yellow'])(i),label=j)\n",
    "\n",
    "plt.title('SVM (Train set)')\n",
    "plt.xlabel('cp and thalach')\n",
    "plt.ylabel('Heart attack chances')\n",
    "plt.legend()\n",
    "plt.show()"
   ]
  },
  {
   "cell_type": "code",
   "execution_count": 77,
   "metadata": {},
   "outputs": [
    {
     "name": "stderr",
     "output_type": "stream",
     "text": [
      "*c* argument looks like a single numeric RGB or RGBA sequence, which should be avoided as value-mapping will have precedence in case its length matches with *x* & *y*.  Please use the *color* keyword-argument or provide a 2-D array with a single row if you intend to specify the same RGB or RGBA value for all points.\n",
      "*c* argument looks like a single numeric RGB or RGBA sequence, which should be avoided as value-mapping will have precedence in case its length matches with *x* & *y*.  Please use the *color* keyword-argument or provide a 2-D array with a single row if you intend to specify the same RGB or RGBA value for all points.\n"
     ]
    },
    {
     "data": {
      "image/png": "[encoded data removed]",
      "text/plain": [
       "<Figure size 432x288 with 1 Axes>"
      ]
     },
     "metadata": {
      "needs_background": "light"
     },
     "output_type": "display_data"
    }
   ],
   "source": [
    "X_set,y_set = X_test,y_test\n",
    "X1,X2 = np.meshgrid(np.arange(start=X_set[:,0].min() - 1,stop=X_set[:,0].max()+1,step=0.01),\n",
    "                    np.arange(start=X_set[:,1].min() - 1,stop=X_set[:,1].max()+1,step=0.01))\n",
    "plt.contourf(X1,X2,svc.predict(np.array([X1.ravel(),X2.ravel()]).T).reshape(X1.shape),\n",
    "                        alpha=0.75,cmap=ListedColormap(('black','green')))\n",
    "\n",
    "plt.xlim(X1.min(),X1.max())\n",
    "plt.ylim(X2.min(),X2.max())\n",
    "for i,j in enumerate(np.unique(y_set)):\n",
    "    plt.scatter(X_set[y_set ==j,0],X_set[y_set == j,1],\n",
    "               c=ListedColormap(['yellow','red'])(i),label=j)\n",
    "\n",
    "plt.title('SVM (Test set)')\n",
    "plt.xlabel('cp and thalach')\n",
    "plt.ylabel('Heart attack chances')\n",
    "plt.legend()\n",
    "plt.show()"
   ]
  },
  {
   "cell_type": "code",
   "execution_count": 78,
   "metadata": {},
   "outputs": [
    {
     "name": "stdout",
     "output_type": "stream",
     "text": [
      "Accuracy Score:\n",
      "0.6721311475409836\n"
     ]
    }
   ],
   "source": [
    "svc = SVC(kernel='poly')\n",
    "svc.fit(X_train,y_train)\n",
    "y_pred = svc.predict(X_test)\n",
    "print('Accuracy Score:')\n",
    "print(metrics.accuracy_score(y_test,y_pred))"
   ]
  },
  {
   "cell_type": "code",
   "execution_count": 79,
   "metadata": {},
   "outputs": [
    {
     "name": "stderr",
     "output_type": "stream",
     "text": [
      "*c* argument looks like a single numeric RGB or RGBA sequence, which should be avoided as value-mapping will have precedence in case its length matches with *x* & *y*.  Please use the *color* keyword-argument or provide a 2-D array with a single row if you intend to specify the same RGB or RGBA value for all points.\n",
      "*c* argument looks like a single numeric RGB or RGBA sequence, which should be avoided as value-mapping will have precedence in case its length matches with *x* & *y*.  Please use the *color* keyword-argument or provide a 2-D array with a single row if you intend to specify the same RGB or RGBA value for all points.\n"
     ]
    },
    {
     "data": {
      "image/png": "[encoded data removed]",
      "text/plain": [
       "<Figure size 432x288 with 1 Axes>"
      ]
     },
     "metadata": {
      "needs_background": "light"
     },
     "output_type": "display_data"
    }
   ],
   "source": [
    "from matplotlib.colors import ListedColormap\n",
    "X_set,y_set = X_train,y_train\n",
    "X1,X2 = np.meshgrid(np.arange(start=X_set[:,0].min() - 1,stop=X_set[:,0].max()+1,step=0.01),\n",
    "                    np.arange(start=X_set[:,1].min() - 1,stop=X_set[:,1].max()+1,step=0.01))\n",
    "plt.contourf(X1,X2,svc.predict(np.array([X1.ravel(),X2.ravel()]).T).reshape(X1.shape),\n",
    "                        alpha=0.75,cmap=ListedColormap(('black','purple')))\n",
    "\n",
    "plt.xlim(X1.min(),X1.max())\n",
    "plt.ylim(X2.min(),X2.max())\n",
    "for i,j in enumerate(np.unique(y_set)):\n",
    "    plt.scatter(X_set[y_set ==j,0],X_set[y_set == j,1],\n",
    "               c=ListedColormap(['red','yellow'])(i),label=j)\n",
    "\n",
    "plt.title('SVM (Train set)')\n",
    "plt.xlabel('cp and thalach')\n",
    "plt.ylabel('Heart attack chances')\n",
    "plt.legend()\n",
    "plt.show()"
   ]
  },
  {
   "cell_type": "code",
   "execution_count": 80,
   "metadata": {},
   "outputs": [
    {
     "name": "stderr",
     "output_type": "stream",
     "text": [
      "*c* argument looks like a single numeric RGB or RGBA sequence, which should be avoided as value-mapping will have precedence in case its length matches with *x* & *y*.  Please use the *color* keyword-argument or provide a 2-D array with a single row if you intend to specify the same RGB or RGBA value for all points.\n",
      "*c* argument looks like a single numeric RGB or RGBA sequence, which should be avoided as value-mapping will have precedence in case its length matches with *x* & *y*.  Please use the *color* keyword-argument or provide a 2-D array with a single row if you intend to specify the same RGB or RGBA value for all points.\n"
     ]
    },
    {
     "data": {
      "image/png": "[encoded data removed]",
      "text/plain": [
       "<Figure size 432x288 with 1 Axes>"
      ]
     },
     "metadata": {
      "needs_background": "light"
     },
     "output_type": "display_data"
    }
   ],
   "source": [
    "X_set,y_set = X_test,y_test\n",
    "X1,X2 = np.meshgrid(np.arange(start=X_set[:,0].min() - 1,stop=X_set[:,0].max()+1,step=0.01),\n",
    "                    np.arange(start=X_set[:,1].min() - 1,stop=X_set[:,1].max()+1,step=0.01))\n",
    "plt.contourf(X1,X2,svc.predict(np.array([X1.ravel(),X2.ravel()]).T).reshape(X1.shape),\n",
    "                        alpha=0.75,cmap=ListedColormap(('black','green')))\n",
    "\n",
    "plt.xlim(X1.min(),X1.max())\n",
    "plt.ylim(X2.min(),X2.max())\n",
    "for i,j in enumerate(np.unique(y_set)):\n",
    "    plt.scatter(X_set[y_set ==j,0],X_set[y_set == j,1],\n",
    "               c=ListedColormap(['yellow','red'])(i),label=j)\n",
    "\n",
    "plt.title('Logistic egression (Test set)')\n",
    "plt.xlabel('cp and thalach')\n",
    "plt.ylabel('Heart attack chances')\n",
    "plt.legend()\n",
    "plt.show()"
   ]
  },
  {
   "cell_type": "code",
   "execution_count": 14,
   "metadata": {},
   "outputs": [
    {
     "name": "stdout",
     "output_type": "stream",
     "text": [
      "[0.7555913978494624, 0.7589247311827957, 0.7589247311827957, 0.7589247311827957, 0.7589247311827957, 0.7589247311827957, 0.7589247311827957, 0.7589247311827957, 0.7589247311827957, 0.7589247311827957, 0.7589247311827957, 0.7589247311827957, 0.7589247311827957, 0.7589247311827957, 0.7621505376344084, 0.7589247311827957, 0.7589247311827957, 0.7589247311827957, 0.7589247311827957, 0.7589247311827957, 0.7589247311827957, 0.7589247311827957, 0.7589247311827957, 0.7589247311827957]\n"
     ]
    }
   ],
   "source": [
    "# cross-validation import from sklearn\n",
    "from sklearn.model_selection import cross_val_score\n",
    "\n",
    "C_range = list(range(1,25))\n",
    "acc_score=[]\n",
    "for c in C_range:\n",
    "    svc = SVC(kernel='linear',C=c)\n",
    "    scores = cross_val_score(svc,X,y,cv=10,scoring='accuracy')\n",
    "    acc_score.append(scores.mean())\n",
    "print(acc_score)"
   ]
  },
  {
   "cell_type": "code",
   "execution_count": 15,
   "metadata": {},
   "outputs": [],
   "source": [
    "# plt.figure(figsize=(10,6))\n",
    "# C_values = list(range(1,25))\n",
    "# # plot C values in X-axis and cross_validate_accuracy on y-axis\n",
    "# plt.plot(C_values,acc_score)\n",
    "# plt.xticks(np.arange(0,25,1))\n",
    "# plt.xlabel('Value of C for SVM')\n",
    "# plt.ylabel('Cross-Validate Accuracy')"
   ]
  },
  {
   "cell_type": "code",
   "execution_count": 16,
   "metadata": {},
   "outputs": [
    {
     "name": "stdout",
     "output_type": "stream",
     "text": [
      "[0.7687096774193548, 0.7621505376344084, 0.7588172043010751, 0.7621505376344084, 0.7621505376344084, 0.7621505376344084, 0.7621505376344084, 0.7621505376344084, 0.7555913978494624, 0.7555913978494624, 0.7589247311827957, 0.7589247311827957, 0.7589247311827957, 0.7589247311827957, 0.7589247311827957, 0.7589247311827957, 0.7621505376344084, 0.7589247311827957, 0.7589247311827957]\n"
     ]
    }
   ],
   "source": [
    "C_range = list(np.arange(0.1,2,0.1))\n",
    "acc_score=[]\n",
    "for c in C_range:\n",
    "    svc = SVC(kernel='linear',C=c)\n",
    "    scores = cross_val_score(svc,X,y,cv=10,scoring='accuracy')\n",
    "    acc_score.append(scores.mean())\n",
    "print(acc_score)"
   ]
  },
  {
   "cell_type": "code",
   "execution_count": 17,
   "metadata": {},
   "outputs": [],
   "source": [
    "# plt.figure(figsize=(10,6))\n",
    "# C_values = list(np.arange(0.1,2,0.1))\n",
    "# # plot C values in X-axis and cross_validate_accuracy on y-axis\n",
    "# plt.plot(C_values,acc_score)\n",
    "# plt.xticks(np.arange(0.1,2,0.1))\n",
    "# plt.xlabel('Value of C for SVM')\n",
    "# plt.ylabel('Cross-Validate Accuracy')"
   ]
  },
  {
   "cell_type": "code",
   "execution_count": 18,
   "metadata": {},
   "outputs": [
    {
     "name": "stdout",
     "output_type": "stream",
     "text": [
      "[0.5445161290322581, 0.5445161290322581, 0.7654838709677418, 0.752258064516129, 0.7688172043010753, 0.7458064516129033, 0.7029032258064516]\n"
     ]
    }
   ],
   "source": [
    "gamma_range = [0.0001,0.001,0.01,0.1,1,10,100]\n",
    "acc_score = []\n",
    "for g in gamma_range:\n",
    "    svc = SVC(kernel='rbf',gamma=g)\n",
    "    scores = cross_val_score(svc,X,y,cv=10,scoring='accuracy')\n",
    "    acc_score.append(scores.mean())\n",
    "print(acc_score)"
   ]
  },
  {
   "cell_type": "code",
   "execution_count": 19,
   "metadata": {},
   "outputs": [],
   "source": [
    "# %matplotlib inline\n",
    "# plt.figure(figsize=(20,6))\n",
    "# gamma_range=[0.0001,0.001,0.01,0.1,1,10,100]\n",
    "\n",
    "# # plot the value of C for SVM (x-axis) versus the cross-validated accuracy (y-axis)\n",
    "# plt.plot(gamma_range,acc_score)\n",
    "# plt.xlabel('Value of gamma for SVC ')\n",
    "# plt.xticks(np.arange(0.0001,100,5))\n",
    "# plt.ylabel('Cross-Validated Accuracy')"
   ]
  },
  {
   "cell_type": "code",
   "execution_count": 20,
   "metadata": {},
   "outputs": [],
   "source": [
    "tuned_parameter = {\n",
    "    'C':(np.arange(0.01,1,0.01)),'kernel':['linear'],\n",
    "    'C':(np.arange(0.01,1,0.01)),'gamma':[0.01,0.02,0.03,0.04,0.05],'kernel':['rbf'],\n",
    "    'degree':[2,3,4,5], 'gamma':[0.01,0.02,0.03,0.04,0.05],'C':(np.arange(0.01,1,0.01)),'kernel':['poly']\n",
    "}"
   ]
  },
  {
   "cell_type": "code",
   "execution_count": 21,
   "metadata": {},
   "outputs": [],
   "source": [
    "from sklearn.model_selection import GridSearchCV\n",
    "\n",
    "model_svm = GridSearchCV(svc,tuned_parameter,cv=10,scoring='accuracy')"
   ]
  },
  {
   "cell_type": "code",
   "execution_count": 22,
   "metadata": {},
   "outputs": [
    {
     "name": "stdout",
     "output_type": "stream",
     "text": [
      "0.5371666666666667\n"
     ]
    }
   ],
   "source": [
    "model_svm.fit(X_train,y_train)\n",
    "print(model_svm.best_score_)"
   ]
  },
  {
   "cell_type": "code",
   "execution_count": 48,
   "metadata": {},
   "outputs": [
    {
     "name": "stdout",
     "output_type": "stream",
     "text": [
      "{'C': 0.86, 'degree': 3, 'gamma': 0.05, 'kernel': 'poly'}\n"
     ]
    }
   ],
   "source": [
    "print(model_svm.best_params_)"
   ]
  },
  {
   "cell_type": "code",
   "execution_count": 50,
   "metadata": {},
   "outputs": [
    {
     "name": "stdout",
     "output_type": "stream",
     "text": [
      "Accuracy Score:\n",
      "0.7377049180327869\n"
     ]
    }
   ],
   "source": [
    "svc = SVC(kernel='linear',C=0.96,degree=3,gamma=0.05)\n",
    "svc.fit(X_train,y_train)\n",
    "y_pred = svc.predict(X_test)\n",
    "print('Accuracy Score:')\n",
    "print(metrics.accuracy_score(y_test,y_pred))"
   ]
  },
  {
   "cell_type": "code",
   "execution_count": 51,
   "metadata": {},
   "outputs": [
    {
     "data": {
      "text/plain": [
       "array([[16,  9],\n",
       "       [ 7, 29]], dtype=int64)"
      ]
     },
     "execution_count": 51,
     "metadata": {},
     "output_type": "execute_result"
    }
   ],
   "source": [
    "from sklearn.metrics import confusion_matrix,classification_report,recall_score,roc_curve,precision_score,roc_auc_score\n",
    "cnf_matrix = confusion_matrix(y_test,y_pred)\n",
    "cnf_matrix"
   ]
  },
  {
   "cell_type": "code",
   "execution_count": 43,
   "metadata": {},
   "outputs": [
    {
     "data": {
      "text/plain": [
       "Text(0.5, 257.44, 'Predicted label')"
      ]
     },
     "execution_count": 43,
     "metadata": {},
     "output_type": "execute_result"
    },
    {
     "data": {
      "image/png": "[encoded data removed]",
      "text/plain": [
       "<Figure size 432x288 with 2 Axes>"
      ]
     },
     "metadata": {
      "needs_background": "light"
     },
     "output_type": "display_data"
    }
   ],
   "source": [
    "class_names=[0,1] # name  of classes\n",
    "fig, ax = plt.subplots()\n",
    "tick_marks = np.arange(len(class_names))\n",
    "plt.xticks(tick_marks, class_names)\n",
    "plt.yticks(tick_marks, class_names)\n",
    "# create heatmap\n",
    "sns.heatmap(pd.DataFrame(cnf_matrix), annot=True, cmap=sns.diverging_palette(20, 220, n=200) ,fmt='g')\n",
    "ax.xaxis.set_label_position(\"top\")\n",
    "plt.tight_layout()\n",
    "plt.title('Confusion matrix', y=1.1)\n",
    "plt.ylabel('Actual label')\n",
    "plt.xlabel('Predicted label')"
   ]
  },
  {
   "cell_type": "code",
   "execution_count": 44,
   "metadata": {},
   "outputs": [
    {
     "data": {
      "text/plain": [
       "0.8055555555555556"
      ]
     },
     "execution_count": 44,
     "metadata": {},
     "output_type": "execute_result"
    }
   ],
   "source": [
    "recall = recall_score(y_test,y_pred)\n",
    "recall"
   ]
  },
  {
   "cell_type": "code",
   "execution_count": 45,
   "metadata": {},
   "outputs": [
    {
     "data": {
      "text/plain": [
       "0.7631578947368421"
      ]
     },
     "execution_count": 45,
     "metadata": {},
     "output_type": "execute_result"
    }
   ],
   "source": [
    "precision = precision_score(y_test,y_pred)\n",
    "precision"
   ]
  },
  {
   "cell_type": "code",
   "execution_count": 46,
   "metadata": {},
   "outputs": [
    {
     "data": {
      "image/png": "[encoded data removed]",
      "text/plain": [
       "<Figure size 432x288 with 1 Axes>"
      ]
     },
     "metadata": {
      "needs_background": "light"
     },
     "output_type": "display_data"
    }
   ],
   "source": [
    "fpr, tpr, _ = roc_curve(y_test,  y_pred)\n",
    "auc = roc_auc_score(y_test, y_pred)\n",
    "plt.plot(fpr,tpr,label=\"auc=\"+str(auc))\n",
    "plt.legend(loc=4)\n",
    "plt.show()"
   ]
  },
  {
   "cell_type": "code",
   "execution_count": 30,
   "metadata": {},
   "outputs": [
    {
     "data": {
      "text/plain": [
       "array([1, 1, 1, 1, 1, 1, 1, 1, 1, 1, 1, 1, 1, 1, 1, 1, 1, 1, 1, 1, 1, 1,\n",
       "       1, 1, 1, 1, 1, 1, 1, 1, 1, 1, 1, 1, 1, 1, 1, 1, 1, 1, 1, 1, 1, 1,\n",
       "       1, 1, 1, 1, 1, 1, 1, 1, 1, 1, 1, 1, 1, 1, 1, 1, 1, 1, 1, 1, 1, 1,\n",
       "       1, 1, 1, 1, 1, 1, 1, 1, 1, 1, 1, 1, 1, 1, 1, 1, 1, 1, 1, 1, 1, 1,\n",
       "       1, 1, 1, 1, 1, 1, 1, 1, 1, 1, 1, 1, 1, 1, 1, 1, 1, 1, 1, 1, 1, 1,\n",
       "       1, 1, 1, 1, 1, 1, 1, 1, 1, 1, 1, 1, 1, 1, 1, 1, 1, 1, 1, 1, 1, 1,\n",
       "       1, 1, 1, 1, 1, 1, 1, 1, 1, 1, 1, 1, 1, 1, 1, 1, 1, 1, 1, 1, 1, 1,\n",
       "       1, 1, 1, 1, 1, 1, 1, 1, 1, 1, 1, 1, 1, 1, 1, 1, 1, 1, 1, 1, 1, 1,\n",
       "       1, 1, 1, 1, 1, 1, 1, 1, 1, 1, 1, 1, 1, 1, 1, 1, 1, 1, 1, 1, 1, 1,\n",
       "       1, 1, 1, 1, 1, 1, 1, 1, 1, 1, 1, 1, 1, 1, 1, 1, 1, 1, 1, 1, 1, 1,\n",
       "       1, 1, 1, 1, 1, 1, 1, 1, 1, 1, 1, 1, 1, 1, 1, 1, 1, 1, 1, 1, 1, 1,\n",
       "       1, 1, 1, 1, 1, 1, 1, 1, 1, 1, 1, 1, 1, 1, 1, 1, 1, 1, 1, 1, 1, 1,\n",
       "       1, 1, 1, 1, 1, 1, 1, 1, 0, 1, 1, 1, 1, 1, 1, 1, 1, 1, 1, 1, 1, 1,\n",
       "       1, 1, 1, 1, 1, 1, 1, 1, 1, 1, 1, 1, 1, 1, 1, 1, 1], dtype=int64)"
      ]
     },
     "execution_count": 30,
     "metadata": {},
     "output_type": "execute_result"
    }
   ],
   "source": [
    "data_prediction = svc.predict(X)\n",
    "data_prediction"
   ]
  },
  {
   "cell_type": "code",
   "execution_count": null,
   "metadata": {},
   "outputs": [],
   "source": []
  }
 ],
 "metadata": {
  "kernelspec": {
   "display_name": "Python 3",
   "language": "python",
   "name": "python3"
  },
  "language_info": {
   "codemirror_mode": {
    "name": "ipython",
    "version": 3
   },
   "file_extension": ".py",
   "mimetype": "text/x-python",
   "name": "python",
   "nbconvert_exporter": "python",
   "pygments_lexer": "ipython3",
   "version": "3.8.3"
  }
 },
 "nbformat": 4,
 "nbformat_minor": 4
}
